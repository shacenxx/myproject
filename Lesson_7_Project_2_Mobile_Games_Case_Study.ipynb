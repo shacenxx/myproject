{
  "nbformat": 4,
  "nbformat_minor": 0,
  "metadata": {
    "kernelspec": {
      "display_name": "Python 3",
      "language": "python",
      "name": "python3"
    },
    "language_info": {
      "codemirror_mode": {
        "name": "ipython",
        "version": 3
      },
      "file_extension": ".py",
      "mimetype": "text/x-python",
      "name": "python",
      "nbconvert_exporter": "python",
      "pygments_lexer": "ipython3",
      "version": "3.6.5"
    },
    "colab": {
      "provenance": []
    }
  },
  "cells": [
    {
      "cell_type": "markdown",
      "metadata": {
        "id": "CIVb9rk8P3yb"
      },
      "source": [
        "# <center>Mobile Games: A/B Testing & Player Retention </center>\n",
        "\n",
        "## Table of Contents\n",
        "\n",
        "1. **[Project Background](#1)**\n",
        "2. **[About the Data](#2)**\n",
        "3. **[Analyzing Player Behavior ](#3)**\n",
        "4. **[Comparing 1-day Retention](#4)**\n",
        "5. **[Comparing 7-day Retention](#5)**\n",
        "6. **[Conclusion](#6)**"
      ]
    },
    {
      "cell_type": "markdown",
      "metadata": {
        "id": "9v0f39n0P3yf"
      },
      "source": [
        "## Part 1. Project Background <a name= '1'></a>"
      ]
    },
    {
      "cell_type": "markdown",
      "metadata": {
        "id": "1PPEPs7lP3yg"
      },
      "source": [
        "<p><a href=\"https://www.facebook.com/cookiecatsgame\">Cookie Cats</a> is a hugely popular mobile puzzle game developed by <a href=\"http://tactile.dk\">Tactile Entertainment</a>. It's a classic \"connect three\"-style puzzle game where the player must connect tiles of the same color to clear the board and win the level. It also features singing cats. Check out this short demo:</p>\n",
        "<p><a href=\"https://youtu.be/GaP5f0jVTWE\"><img src=\"https://s3.amazonaws.com/assets.datacamp.com/production/project_184/img/cookie_cats_video.jpeg\" style=\"width: 500px\"></a></p>\n",
        "<p>As players progress through the levels of the game, they will <strong>occasionally encounter gates that force them to wait a non-trivial amount of time or make an in-app purchase to progress</strong>. In addition to driving in-app purchases, these gates serve the important purpose of giving players an enforced break from playing the game, hopefully resulting in that the player's enjoyment of the game being increased and prolonged.<p>But where should the gates be placed? Initially the first gate was placed at level 30. <strong>In this project, we're going to analyze an AB-test where we moved the first gate in Cookie Cats from level 30 to level 40. In particular, we will look at the impact on player retention.</strong> </p>\n",
        "<p><img src=\"https://s3.amazonaws.com/assets.datacamp.com/production/project_184/img/cc_gates.png\" alt=\"\"></p>"
      ]
    },
    {
      "cell_type": "markdown",
      "metadata": {
        "id": "iEznUSoXP3yh"
      },
      "source": [
        "## Part 2. About the Data  <a name= '2'></a>"
      ]
    },
    {
      "cell_type": "markdown",
      "metadata": {
        "id": "1qshvW_LP3yi"
      },
      "source": [
        "### 2.1 Load the AB-test data"
      ]
    },
    {
      "cell_type": "code",
      "metadata": {
        "id": "P3IiV7hvP3yi",
        "outputId": "873abccc-974d-4872-e4f0-1489be95e7bb"
      },
      "source": [
        "import pandas as pd\n",
        "import numpy as np\n",
        "import matplotlib.pyplot as plt\n",
        "\n",
        "%matplotlib inline\n",
        "\n",
        "df = pd.read_csv('cookie_cats.csv')\n",
        "df.head()"
      ],
      "execution_count": null,
      "outputs": [
        {
          "output_type": "execute_result",
          "data": {
            "text/html": [
              "<div>\n",
              "<style scoped>\n",
              "    .dataframe tbody tr th:only-of-type {\n",
              "        vertical-align: middle;\n",
              "    }\n",
              "\n",
              "    .dataframe tbody tr th {\n",
              "        vertical-align: top;\n",
              "    }\n",
              "\n",
              "    .dataframe thead th {\n",
              "        text-align: right;\n",
              "    }\n",
              "</style>\n",
              "<table border=\"1\" class=\"dataframe\">\n",
              "  <thead>\n",
              "    <tr style=\"text-align: right;\">\n",
              "      <th></th>\n",
              "      <th>userid</th>\n",
              "      <th>version</th>\n",
              "      <th>sum_gamerounds</th>\n",
              "      <th>retention_1</th>\n",
              "      <th>retention_7</th>\n",
              "    </tr>\n",
              "  </thead>\n",
              "  <tbody>\n",
              "    <tr>\n",
              "      <th>0</th>\n",
              "      <td>116</td>\n",
              "      <td>gate_30</td>\n",
              "      <td>3</td>\n",
              "      <td>False</td>\n",
              "      <td>False</td>\n",
              "    </tr>\n",
              "    <tr>\n",
              "      <th>1</th>\n",
              "      <td>337</td>\n",
              "      <td>gate_30</td>\n",
              "      <td>38</td>\n",
              "      <td>True</td>\n",
              "      <td>False</td>\n",
              "    </tr>\n",
              "    <tr>\n",
              "      <th>2</th>\n",
              "      <td>377</td>\n",
              "      <td>gate_40</td>\n",
              "      <td>165</td>\n",
              "      <td>True</td>\n",
              "      <td>False</td>\n",
              "    </tr>\n",
              "    <tr>\n",
              "      <th>3</th>\n",
              "      <td>483</td>\n",
              "      <td>gate_40</td>\n",
              "      <td>1</td>\n",
              "      <td>False</td>\n",
              "      <td>False</td>\n",
              "    </tr>\n",
              "    <tr>\n",
              "      <th>4</th>\n",
              "      <td>488</td>\n",
              "      <td>gate_40</td>\n",
              "      <td>179</td>\n",
              "      <td>True</td>\n",
              "      <td>True</td>\n",
              "    </tr>\n",
              "  </tbody>\n",
              "</table>\n",
              "</div>"
            ],
            "text/plain": [
              "   userid  version  sum_gamerounds  retention_1  retention_7\n",
              "0     116  gate_30               3        False        False\n",
              "1     337  gate_30              38         True        False\n",
              "2     377  gate_40             165         True        False\n",
              "3     483  gate_40               1        False        False\n",
              "4     488  gate_40             179         True         True"
            ]
          },
          "metadata": {
            "tags": []
          },
          "execution_count": 6
        }
      ]
    },
    {
      "cell_type": "markdown",
      "metadata": {
        "id": "3AV-1hM5P3yl"
      },
      "source": [
        "<p>The data is from 90,189 players that installed the game while the AB-test was running. The variables are:</p>\n",
        "<ul>\n",
        "<li><code>userid</code> - a unique number that identifies each player.</li>\n",
        "<li><code>version</code> - whether the player was put in the control group (<code>gate_30</code> - a gate at level 30) or the test group (<code>gate_40</code> - a gate at level 40).</li>\n",
        "<li><code>sum_gamerounds</code> - the number of game rounds played by the player during the first week after install\n",
        "<li><code>retention_1</code> - did the player come back and play 1 day after SEE THE GATE?</li>\n",
        "<li><code>retention_7</code> - did the player come back and play 7 days after SEE THE GATE?</li>\n",
        "</ul>\n",
        "<p>When a player installed the game, he or she was randomly assigned to either <code>gate_30</code> or <code>gate_40</code>. </p>"
      ]
    },
    {
      "cell_type": "markdown",
      "metadata": {
        "id": "H-HNgyTCP3ym"
      },
      "source": [
        "### 2.2 Check missing values"
      ]
    },
    {
      "cell_type": "code",
      "metadata": {
        "scrolled": true,
        "id": "fIGFMBxfP3ym",
        "outputId": "b17b78a2-dc94-4a82-976c-212413125357"
      },
      "source": [
        "df.info()"
      ],
      "execution_count": null,
      "outputs": [
        {
          "output_type": "stream",
          "text": [
            "<class 'pandas.core.frame.DataFrame'>\n",
            "RangeIndex: 90189 entries, 0 to 90188\n",
            "Data columns (total 5 columns):\n",
            "userid            90189 non-null int64\n",
            "version           90189 non-null object\n",
            "sum_gamerounds    90189 non-null int64\n",
            "retention_1       90189 non-null bool\n",
            "retention_7       90189 non-null bool\n",
            "dtypes: bool(2), int64(2), object(1)\n",
            "memory usage: 2.2+ MB\n"
          ],
          "name": "stdout"
        }
      ]
    },
    {
      "cell_type": "markdown",
      "metadata": {
        "id": "PiX7kFqIP3yn"
      },
      "source": [
        "Luckily, there is no missing value in this dataset.\n",
        "### 2.3 Count the number of players in each group"
      ]
    },
    {
      "cell_type": "code",
      "metadata": {
        "id": "3imKXfvKP3yo",
        "outputId": "63d097ac-d301-42f1-c5c2-35f54341178b"
      },
      "source": [
        "df.groupby('version').count()"
      ],
      "execution_count": null,
      "outputs": [
        {
          "output_type": "execute_result",
          "data": {
            "text/html": [
              "<div>\n",
              "<style scoped>\n",
              "    .dataframe tbody tr th:only-of-type {\n",
              "        vertical-align: middle;\n",
              "    }\n",
              "\n",
              "    .dataframe tbody tr th {\n",
              "        vertical-align: top;\n",
              "    }\n",
              "\n",
              "    .dataframe thead th {\n",
              "        text-align: right;\n",
              "    }\n",
              "</style>\n",
              "<table border=\"1\" class=\"dataframe\">\n",
              "  <thead>\n",
              "    <tr style=\"text-align: right;\">\n",
              "      <th></th>\n",
              "      <th>userid</th>\n",
              "      <th>sum_gamerounds</th>\n",
              "      <th>retention_1</th>\n",
              "      <th>retention_7</th>\n",
              "    </tr>\n",
              "    <tr>\n",
              "      <th>version</th>\n",
              "      <th></th>\n",
              "      <th></th>\n",
              "      <th></th>\n",
              "      <th></th>\n",
              "    </tr>\n",
              "  </thead>\n",
              "  <tbody>\n",
              "    <tr>\n",
              "      <th>gate_30</th>\n",
              "      <td>44700</td>\n",
              "      <td>44700</td>\n",
              "      <td>44700</td>\n",
              "      <td>44700</td>\n",
              "    </tr>\n",
              "    <tr>\n",
              "      <th>gate_40</th>\n",
              "      <td>45489</td>\n",
              "      <td>45489</td>\n",
              "      <td>45489</td>\n",
              "      <td>45489</td>\n",
              "    </tr>\n",
              "  </tbody>\n",
              "</table>\n",
              "</div>"
            ],
            "text/plain": [
              "         userid  sum_gamerounds  retention_1  retention_7\n",
              "version                                                  \n",
              "gate_30   44700           44700        44700        44700\n",
              "gate_40   45489           45489        45489        45489"
            ]
          },
          "metadata": {
            "tags": []
          },
          "execution_count": 8
        }
      ]
    },
    {
      "cell_type": "markdown",
      "metadata": {
        "id": "_2-Nu7QHP3yp"
      },
      "source": [
        "<p>When a player installed the game, he or she was randomly assigned to either gate_30 or gate_40. The number of players is roughly the same in the control and test group, nice!"
      ]
    },
    {
      "cell_type": "markdown",
      "metadata": {
        "id": "QNylA9O_P3yp"
      },
      "source": [
        "## Part 3. Analyzing Player Behavior  <a name= '3'></a>\n",
        "\n",
        "We will plot a boxplot to visualize the distribution of 'sum_gamerounds', which would give us a rough idea of how many game rounds were played by a player during the first week after installing the game."
      ]
    },
    {
      "cell_type": "code",
      "metadata": {
        "scrolled": false,
        "id": "vOPCB0heP3yq",
        "outputId": "b8bcd1af-c9d6-4bd9-f4f5-4123cd536afc"
      },
      "source": [
        "df['sum_gamerounds'].plot.box(figsize=(5,10))"
      ],
      "execution_count": null,
      "outputs": [
        {
          "output_type": "execute_result",
          "data": {
            "text/plain": [
              "<matplotlib.axes._subplots.AxesSubplot at 0x7fd2bc19f4a8>"
            ]
          },
          "metadata": {
            "tags": []
          },
          "execution_count": 9
        },
        {
          "output_type": "display_data",
          "data": {
            "image/png": "[encoded data removed]",
            "text/plain": [
              "<Figure size 360x720 with 1 Axes>"
            ]
          },
          "metadata": {
            "tags": []
          }
        }
      ]
    },
    {
      "cell_type": "markdown",
      "metadata": {
        "id": "6nyxccKAP3yq"
      },
      "source": [
        "Clearly, there is an outlier. This player played about 50,000 game rounds during the first week! Due to this outlier, this boxplot is extremely skewed and not very informative. To learn about the behavior of the majority of the players, we will check the percentiles."
      ]
    },
    {
      "cell_type": "code",
      "metadata": {
        "scrolled": false,
        "id": "D5p6MgDcP3yq",
        "outputId": "fc82818a-7d6e-4d9d-c6c0-5a4dc2edaf04"
      },
      "source": [
        "df['sum_gamerounds'].describe()"
      ],
      "execution_count": null,
      "outputs": [
        {
          "output_type": "execute_result",
          "data": {
            "text/plain": [
              "count    90189.000000\n",
              "mean        51.872457\n",
              "std        195.050858\n",
              "min          0.000000\n",
              "25%          5.000000\n",
              "50%         16.000000\n",
              "75%         51.000000\n",
              "max      49854.000000\n",
              "Name: sum_gamerounds, dtype: float64"
            ]
          },
          "metadata": {
            "tags": []
          },
          "execution_count": 10
        }
      ]
    },
    {
      "cell_type": "code",
      "metadata": {
        "id": "Z6UeGnOFP3yr",
        "outputId": "88c08c88-7cb0-425e-d10b-b9bcca913328"
      },
      "source": [
        "# Counting the number of players for each number of gamerounds\n",
        "plot_df = df.groupby('sum_gamerounds')['userid'].count()\n",
        "plot_df"
      ],
      "execution_count": null,
      "outputs": [
        {
          "output_type": "execute_result",
          "data": {
            "text/plain": [
              "sum_gamerounds\n",
              "0        3994\n",
              "1        5538\n",
              "2        4606\n",
              "3        3958\n",
              "4        3629\n",
              "5        2992\n",
              "6        2861\n",
              "7        2379\n",
              "8        2267\n",
              "9        2013\n",
              "10       1752\n",
              "11       1654\n",
              "12       1570\n",
              "13       1594\n",
              "14       1519\n",
              "15       1446\n",
              "16       1342\n",
              "17       1269\n",
              "18       1228\n",
              "19       1158\n",
              "20       1033\n",
              "21       1032\n",
              "22        934\n",
              "23        879\n",
              "24        794\n",
              "25        792\n",
              "26        689\n",
              "27        723\n",
              "28        662\n",
              "29        613\n",
              "         ... \n",
              "1457        1\n",
              "1462        1\n",
              "1469        1\n",
              "1490        1\n",
              "1491        1\n",
              "1522        1\n",
              "1528        1\n",
              "1529        1\n",
              "1544        1\n",
              "1558        1\n",
              "1559        1\n",
              "1573        1\n",
              "1643        2\n",
              "1667        1\n",
              "1687        1\n",
              "1697        1\n",
              "1705        1\n",
              "1714        1\n",
              "1816        1\n",
              "1906        1\n",
              "2015        1\n",
              "2063        1\n",
              "2124        1\n",
              "2156        1\n",
              "2251        1\n",
              "2294        1\n",
              "2438        1\n",
              "2640        1\n",
              "2961        1\n",
              "49854       1\n",
              "Name: userid, Length: 942, dtype: int64"
            ]
          },
          "metadata": {
            "tags": []
          },
          "execution_count": 11
        }
      ]
    },
    {
      "cell_type": "markdown",
      "metadata": {
        "id": "WlkxhhuVP3yr"
      },
      "source": [
        "<p>As we can see, 50% of players played fewer than 16 game rounds during the first week after installation, and 75% of players played fewer than 51 rounds.\n",
        "<p>Nearly 4000 players did not even play a single round after installation. Possible reasons may include:\n",
        "<ul>\n",
        "    <li>They downloaded a number of new games at the same time and were attracted by other games.\n",
        "    <li>They opened the app but did not like the design/interface/music, so they quit even before playing the game.\n",
        "    <li>They have not started playing the game yet.\n",
        "    <li>......\n",
        "</ul>\n",
        "\n",
        "<p>Another number worth attention is that more than 14,000 players played fewer than three rounds. For these players, the reasons for leaving may include: </p>\n",
        "<ul>\n",
        "    <li>They did not enjoy the game. (This is probably the most common reason).\n",
        "    <li>The game turned out to be different from what they expected.\n",
        "    <li>The game was too easy and they got bored of it.\n",
        "    <li>......\n",
        "</ul>\n",
        "\n",
        "It is important to understand why a large number of players quit the game at an early stage. Tactile Entertainment can try to collect player feedback, for example, through an in-app survey."
      ]
    },
    {
      "cell_type": "code",
      "metadata": {
        "id": "EwRibcozP3ys",
        "outputId": "9cc3999b-a08a-49c2-972a-033acae7b93a"
      },
      "source": [
        "# Plot the distribution of players that played 0 to 100 game rounds during their first week playing the game.\n",
        "%matplotlib inline\n",
        "\n",
        "ax = plot_df[:100].plot(figsize=(10,6))\n",
        "ax.set_title(\"The number of players that played 0-100 game rounds during the first week\")\n",
        "ax.set_ylabel(\"Number of Players\")\n",
        "ax.set_xlabel('# Game rounds')"
      ],
      "execution_count": null,
      "outputs": [
        {
          "output_type": "execute_result",
          "data": {
            "text/plain": [
              "Text(0.5,0,'# Game rounds')"
            ]
          },
          "metadata": {
            "tags": []
          },
          "execution_count": 12
        },
        {
          "output_type": "display_data",
          "data": {
            "image/png": "[encoded data removed]",
            "text/plain": [
              "<Figure size 720x432 with 1 Axes>"
            ]
          },
          "metadata": {
            "tags": []
          }
        }
      ]
    },
    {
      "cell_type": "markdown",
      "metadata": {
        "id": "t9DnlvB3P3ys"
      },
      "source": [
        "The distribution is highly skewed, with a long tail on the right. A huge number of players played fewer than 20 rounds and left the game. For rounds greater than 60, the number of players stayed steady at about 300."
      ]
    },
    {
      "cell_type": "markdown",
      "metadata": {
        "id": "VmxcxYFMP3ys"
      },
      "source": [
        "## Part 4. Comparing 1-day Retention  <a name= '4'></a>\n",
        "\n",
        "<p>In the plot above we can see that some players install the game but then never play it, some players just play a couple of game rounds in their first week, and some get really hooked! What we want is for players to like the game and to get hooked.\n",
        "<p>A common metric in the video gaming industry for how fun and engaging a game is <strong>1-day retention: the percentage of players that comes back and plays the game one day after they have installed it.</strong>  The higher 1-day retention is, the easier it is to retain players and build a large player base. </p>"
      ]
    },
    {
      "cell_type": "markdown",
      "metadata": {
        "id": "mBzjZGp7P3yt"
      },
      "source": [
        "#### *Overall 1-day retention*"
      ]
    },
    {
      "cell_type": "code",
      "metadata": {
        "id": "MCnsUXu5P3yu",
        "outputId": "cd3f9dad-9a15-40c9-ee86-c2d4c35a0553"
      },
      "source": [
        "df['retention_1'].sum() / df['retention_1'].count() # When using .sum(), T/F will first be converted to 1/0.\n",
        "\n",
        "# Equivalent to df['retention_1'].mean()\n",
        "# Mean is calculated by summing the values and dividing by the total number of values."
      ],
      "execution_count": null,
      "outputs": [
        {
          "output_type": "execute_result",
          "data": {
            "text/plain": [
              "0.4452095044850259"
            ]
          },
          "metadata": {
            "tags": []
          },
          "execution_count": 13
        }
      ]
    },
    {
      "cell_type": "markdown",
      "metadata": {
        "id": "FCwTq73TP3yu"
      },
      "source": [
        "A little less than half of the players come back one day after installing the game. Now that we have a benchmark, let's look at how 1-day retention differs between the two AB-groups."
      ]
    },
    {
      "cell_type": "markdown",
      "metadata": {
        "id": "8QgoRjCpP3yv"
      },
      "source": [
        "#### *1-day retention for each AB-group*"
      ]
    },
    {
      "cell_type": "code",
      "metadata": {
        "id": "srorZ07pP3yv",
        "outputId": "a748a081-1ff8-4448-ae4b-214fd2c193d5"
      },
      "source": [
        "df.groupby('version')['retention_1'].mean()"
      ],
      "execution_count": null,
      "outputs": [
        {
          "output_type": "execute_result",
          "data": {
            "text/plain": [
              "version\n",
              "gate_30    0.448188\n",
              "gate_40    0.442283\n",
              "Name: retention_1, dtype: float64"
            ]
          },
          "metadata": {
            "tags": []
          },
          "execution_count": 14
        }
      ]
    },
    {
      "cell_type": "markdown",
      "metadata": {
        "id": "I4EJwi1YP3yw"
      },
      "source": [
        "It appears that <strong>there was a slight decrease in 1-day retention when the gate was moved to level 40</strong> (44.2%) compared to the control when it was at level 30 (44.8%). It's a small change, but even small changes in retention can have a large impact. But while we are certain of the difference in the data, how certain should we be that a gate at level 40 will be worse in the future?\n",
        "<p>There are a couple of ways we can get at the certainty of these retention numbers. Here we will use bootstrapping: We will repeatedly re-sample our dataset (with replacement) and calculate 1-day retention for those samples. The variation in 1-day retention will give us an indication of how uncertain the retention numbers are."
      ]
    },
    {
      "cell_type": "markdown",
      "metadata": {
        "id": "awPt3AhaP3yw"
      },
      "source": [
        "#### *Bootstrapping: Should we be confident in the difference?*"
      ]
    },
    {
      "cell_type": "code",
      "source": [
        "df.sample(frac = 1,replace = True)"
      ],
      "metadata": {
        "id": "7r2hdtMzUhyL"
      },
      "execution_count": null,
      "outputs": []
    },
    {
      "cell_type": "code",
      "source": [
        "df.sample(frac = 1,replace = True).groupby('version')['retention_1'].mean()"
      ],
      "metadata": {
        "id": "Tw_YADf2UqM7"
      },
      "execution_count": null,
      "outputs": []
    },
    {
      "cell_type": "code",
      "metadata": {
        "id": "AFIh628oP3yx",
        "outputId": "8c0e2760-00b0-4866-a390-3b14ec7e009c"
      },
      "source": [
        "# Creating an list with bootstrapped means for each AB-group\n",
        "boot_1d = []\n",
        "for i in range(1000):\n",
        "    boot_mean = df.sample(frac = 1,replace = True).groupby('version')['retention_1'].mean()\n",
        "    boot_1d.append(boot_mean)\n",
        "\n",
        "# Transforming the list to a DataFrame\n",
        "boot_1d = pd.DataFrame(boot_1d)\n",
        "\n",
        "# A Kernel Density Estimate plot of the bootstrap distributions\n",
        "boot_1d.plot(kind='density')"
      ],
      "execution_count": null,
      "outputs": [
        {
          "output_type": "execute_result",
          "data": {
            "text/plain": [
              "<matplotlib.axes._subplots.AxesSubplot at 0x7fd2bc58a400>"
            ]
          },
          "metadata": {
            "tags": []
          },
          "execution_count": 15
        },
        {
          "output_type": "display_data",
          "data": {
            "image/png": "[encoded data removed]",
            "text/plain": [
              "<Figure size 432x288 with 1 Axes>"
            ]
          },
          "metadata": {
            "tags": []
          }
        }
      ]
    },
    {
      "cell_type": "markdown",
      "metadata": {
        "id": "02eL2ArJP3yx"
      },
      "source": [
        "These two distributions above represent the bootstrap uncertainty over what the underlying 1-day retention could be for the two AB-groups. There seems to be some evidence of a difference, albeit small. Let's plot the % difference to have a closer look."
      ]
    },
    {
      "cell_type": "code",
      "metadata": {
        "scrolled": true,
        "id": "Z_r33amOP3yx",
        "outputId": "df206bf6-f312-4a3c-81e2-ef7e80c33d1b"
      },
      "source": [
        "# Adding a column with the % difference between the two AB-groups\n",
        "boot_1d['diff'] = (boot_1d.gate_30 - boot_1d.gate_40)/boot_1d.gate_40*100\n",
        "\n",
        "# Ploting the bootstrap % difference\n",
        "ax = boot_1d['diff'].plot(kind='density')\n",
        "ax.set_title('% difference in 1-day retention between the two AB-groups')\n",
        "\n",
        "# Calculating the probability that 1-day retention is greater when the gate is at level 30\n",
        "print('Probability that 1-day retention is greater when the gate is at level 30:',(boot_1d['diff'] > 0).mean())"
      ],
      "execution_count": null,
      "outputs": [
        {
          "output_type": "stream",
          "text": [
            "Probability that 1-day retention is greater when the gate is at level 30: 0.962\n"
          ],
          "name": "stdout"
        },
        {
          "output_type": "display_data",
          "data": {
            "image/png": "[encoded data removed]",
            "text/plain": [
              "<Figure size 432x288 with 1 Axes>"
            ]
          },
          "metadata": {
            "tags": []
          }
        }
      ]
    },
    {
      "cell_type": "markdown",
      "metadata": {
        "id": "HIQs7XyOP3yy"
      },
      "source": [
        "From this chart, we can see that the most likely % difference is around 1% - 2%, and that <strong>96% of the distribution is above 0%, in favor of a gate at level 30. </strong>"
      ]
    },
    {
      "cell_type": "markdown",
      "metadata": {
        "id": "82J9CDAtP3yy"
      },
      "source": [
        "## Part 5. Comparing 7-day Retention  <a name= '5'></a>\n",
        "The bootstrap analysis tells us that there is a high probability that 1-day retention is better when the gate is at level 30. However, since players have only been playing the game for one day, it is likely that most players haven't reached level 30 yet. That is, many players won't have been affected by the gate, even if it's as early as level 30. <p>But after having played for a week, more players should have reached level 40, and therefore it makes sense to also look at 7-day retention."
      ]
    },
    {
      "cell_type": "code",
      "metadata": {
        "id": "6MCcXOGgP3yz",
        "outputId": "0378901b-871e-4054-b1b1-98fcfb9e86ad"
      },
      "source": [
        "df.groupby('version')['retention_7'].mean()"
      ],
      "execution_count": null,
      "outputs": [
        {
          "output_type": "execute_result",
          "data": {
            "text/plain": [
              "version\n",
              "gate_30    0.190201\n",
              "gate_40    0.182000\n",
              "Name: retention_7, dtype: float64"
            ]
          },
          "metadata": {
            "tags": []
          },
          "execution_count": 17
        }
      ]
    },
    {
      "cell_type": "markdown",
      "metadata": {
        "id": "YKtCTTCAP3y0"
      },
      "source": [
        "**Insights:**\n",
        "<ul>\n",
        "    <li><strong>Like with 1-day retention, 7-day retention is slightly lower when the gate is at level 40</strong> (18.2%) than when the gate is at level 30 (19.0%).\n",
        "    <li><strong>This difference is also larger than for 1-day retention</strong>, presumably because more players have had time to hit the first gate.\n",
        "    <li> <strong>The overall 7-day retention is lower than the overall 1-day retention</strong>; fewer people play a game a week after installing than a day after installing.\n",
        "</ul>\n",
        "<p>But as before, let's use bootstrap analysis to figure out how certain we should be of the difference between the AB-groups.</p>"
      ]
    },
    {
      "cell_type": "code",
      "metadata": {
        "id": "TVdSDuYqP3y0",
        "outputId": "95c72cc1-18a1-401d-df18-153304677a68"
      },
      "source": [
        "# Creating a list with bootstrapped means for each AB-group\n",
        "boot_7d = []\n",
        "for i in range(500):\n",
        "    boot_mean = df.sample(frac=1,replace=True).groupby('version')['retention_7'].mean()\n",
        "    boot_7d.append(boot_mean)\n",
        "\n",
        "# Transforming the list to a DataFrame\n",
        "boot_7d = pd.DataFrame(boot_7d)\n",
        "\n",
        "# Adding a column with the % difference between the two AB-groups\n",
        "boot_7d['diff'] = (boot_7d.gate_30 - boot_7d.gate_40)/boot_7d.gate_40*100\n",
        "\n",
        "# Ploting the bootstrap % difference\n",
        "ax = boot_7d['diff'].plot(kind='density')\n",
        "ax.set_title('% difference in 7-day retention between the two AB-groups')\n",
        "\n",
        "# Calculating the probability that 7-day retention is greater when the gate is at level 30\n",
        "print('Probability that 7-day retention is greater when the gate is at level 30:',(boot_7d['diff'] > 0).mean())"
      ],
      "execution_count": null,
      "outputs": [
        {
          "output_type": "stream",
          "text": [
            "Probability that 7-day retention is greater when the gate is at level 30: 0.998\n"
          ],
          "name": "stdout"
        },
        {
          "output_type": "display_data",
          "data": {
            "image/png": "[encoded data removed]",
            "text/plain": [
              "<Figure size 432x288 with 1 Axes>"
            ]
          },
          "metadata": {
            "tags": []
          }
        }
      ]
    },
    {
      "cell_type": "markdown",
      "metadata": {
        "id": "ESL5EniyP3y1"
      },
      "source": [
        "## Part 6. Conclusion  <a name= '6'></a>\n",
        "<p>The bootstrap result tells us that <strong>there is strong evidence that 7-day retention is higher when the gate is at level 30 than when it is at level 40.</strong> The conclusion is: If we want to keep retention high — both 1-day and 7-day retention — we should not move the gate from level 30 to level 40.\n",
        "<p>There are, of course, other metrics we could look at, like the number of game rounds played or how much in-game purchases are made by the two AB-groups. But retention <em>is</em> one of the most important metrics. If we don't retain our player base, it doesn't matter how much money they spend in-game.</p>\n",
        "\n",
        "\n",
        "<p>So, why is retention higher when the gate is positioned earlier? One could expect the opposite: The later the obstacle, the longer people are going to engage with the game. But this is not what the data tells us. The theory of <em>hedonic adaptation</em> can give one explanation for this.\n",
        "<p>In short, <strong>hedonic adaptation is the tendency for people to get less and less enjoyment out of a fun activity over time if that activity is undertaken continuously.</strong> By forcing players to take a break when they reach a gate, their enjoyment of the game is prolonged. But <strong>when the gate is moved to level 40, fewer players make it far enough, and they are more likely to quit the game because they simply got bored of it. </strong></p>"
      ]
    },
    {
      "cell_type": "markdown",
      "source": [
        "# bonus point = eda- correlation + 3 method -> draw similar conclusion"
      ],
      "metadata": {
        "id": "Mc6beM4rMkIv"
      }
    },
    {
      "cell_type": "code",
      "metadata": {
        "id": "V4E69Bo7P3y2"
      },
      "source": [
        "df['is_outlier'] = df[f'{column}'].apply(lambda x: 1 if x > 30 else 0)"
      ],
      "execution_count": null,
      "outputs": []
    }
  ]
}